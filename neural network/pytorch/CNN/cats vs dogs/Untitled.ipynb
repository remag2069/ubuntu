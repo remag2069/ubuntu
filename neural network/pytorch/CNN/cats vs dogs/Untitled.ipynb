{
 "cells": [
  {
   "cell_type": "code",
   "execution_count": 2,
   "metadata": {},
   "outputs": [],
   "source": [
    "import torch\n",
    "import torch.nn as nn\n",
    "import torch.nn.functional as f"
   ]
  },
  {
   "cell_type": "code",
   "execution_count": 3,
   "metadata": {},
   "outputs": [],
   "source": [
    "class Net(nn.Module):\n",
    "    def __init__(self):\n",
    "        super().__init__()\n",
    "        self.conv1=nn.Conv2d(1,10,1)\n",
    "\n",
    "        \n",
    "        x=torch.randn(50,50).view(-1,1,50,50)\n",
    "        self.flat=0\n",
    "        \n",
    "        self.flatten(x)\n",
    "        \n",
    "        self.fc1=nn.Linear(self.flat,1)\n",
    "\n",
    "        \n",
    "    def flatten(self,x):\n",
    "        if(self.flat==0):\n",
    "            x=f.max_pool2d(f.relu(self.conv1(x)),(1,1))\n",
    "            print(x[0].size())\n",
    "            self.flat=x[0].shape[0]*x[0].shape[1]*x[0].shape[2]\n",
    "        print(self.flat)\n",
    "        \n",
    "    def forward(self,x):\n",
    "        x=f.max_pool2d(f.relu(self.conv1(x)),(1,1))\n",
    "        p=x\n",
    "        x=f.relu(self.fc1(x.view(-1,self.flat)))\n",
    "        return p,f.softmax(x,dim=1)\n",
    "      \n",
    "        "
   ]
  },
  {
   "cell_type": "code",
   "execution_count": 4,
   "metadata": {},
   "outputs": [
    {
     "name": "stdout",
     "output_type": "stream",
     "text": [
      "torch.Size([10, 50, 50])\n",
      "25000\n"
     ]
    }
   ],
   "source": [
    "import numpy as np\n",
    "\n",
    "k=np.random.rand(50,50)\n",
    "net=Net()"
   ]
  },
  {
   "cell_type": "code",
   "execution_count": 6,
   "metadata": {},
   "outputs": [
    {
     "name": "stdout",
     "output_type": "stream",
     "text": [
      "torch.Size([1, 10, 50, 50])\n",
      "torch.Size([1, 1, 50, 50])\n"
     ]
    }
   ],
   "source": [
    "\n",
    "k=torch.Tensor(k).view(-1,1,50,50)\n",
    "t,output=net(k)\n",
    "print(t.shape)\n",
    "print(k.shape)"
   ]
  },
  {
   "cell_type": "code",
   "execution_count": 9,
   "metadata": {},
   "outputs": [],
   "source": [
    "ss=t[0][5].detach().numpy()\n",
    "s=k[0][0].detach().numpy()"
   ]
  },
  {
   "cell_type": "code",
   "execution_count": 10,
   "metadata": {},
   "outputs": [],
   "source": [
    "import cv2\n",
    "cv2.imshow('frame',s)\n",
    "cv2.waitKey(0)\n",
    "cv2.destroyAllWindows()"
   ]
  },
  {
   "cell_type": "code",
   "execution_count": null,
   "metadata": {},
   "outputs": [],
   "source": []
  }
 ],
 "metadata": {
  "kernelspec": {
   "display_name": "Python 3",
   "language": "python",
   "name": "python3"
  },
  "language_info": {
   "codemirror_mode": {
    "name": "ipython",
    "version": 3
   },
   "file_extension": ".py",
   "mimetype": "text/x-python",
   "name": "python",
   "nbconvert_exporter": "python",
   "pygments_lexer": "ipython3",
   "version": "3.7.4"
  }
 },
 "nbformat": 4,
 "nbformat_minor": 4
}
