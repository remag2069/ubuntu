{
 "cells": [
  {
   "cell_type": "code",
   "execution_count": 1,
   "metadata": {},
   "outputs": [],
   "source": [
    "from tqdm import tqdm\n",
    "import os\n",
    "import numpy as np\n",
    "import cv2"
   ]
  },
  {
   "cell_type": "code",
   "execution_count": 2,
   "metadata": {},
   "outputs": [],
   "source": [
    "preprocess=False\n",
    "if preprocess:\n",
    "    cats=0\n",
    "    dogs=0\n",
    "    labels=['PetImages/Cat','PetImages/Dog']\n",
    "    code={'PetImages/Cat':0,'PetImages/Dog':1}\n",
    "    training_data=[]\n",
    "    for label in labels:\n",
    "        print(label)\n",
    "        for pic in tqdm(os.listdir(label)):\n",
    "            dir=os.path.join(label,pic)\n",
    "            try:\n",
    "                img=cv2.imread(dir,cv2.IMREAD_GRAYSCALE)\n",
    "                img=cv2.resize(img,(50,50))\n",
    "                training_data.append([np.array(img),np.eye(2)[code[label]]])\n",
    "                if(label=='PetImages/Cat'):\n",
    "                    cats=cats+1\n",
    "                else:\n",
    "                    dogs=dogs+1\n",
    "            except:\n",
    "                pass\n",
    "\n",
    "           \n",
    "    print(cats)\n",
    "    print(dogs)"
   ]
  },
  {
   "cell_type": "code",
   "execution_count": 3,
   "metadata": {},
   "outputs": [
    {
     "ename": "NameError",
     "evalue": "name 'training_data' is not defined",
     "output_type": "error",
     "traceback": [
      "\u001b[1;31m---------------------------------------------------------------------------\u001b[0m",
      "\u001b[1;31mNameError\u001b[0m                                 Traceback (most recent call last)",
      "\u001b[1;32m<ipython-input-3-29ce3e6a0576>\u001b[0m in \u001b[0;36m<module>\u001b[1;34m\u001b[0m\n\u001b[1;32m----> 1\u001b[1;33m \u001b[0mnp\u001b[0m\u001b[1;33m.\u001b[0m\u001b[0mrandom\u001b[0m\u001b[1;33m.\u001b[0m\u001b[0mshuffle\u001b[0m\u001b[1;33m(\u001b[0m\u001b[0mtraining_data\u001b[0m\u001b[1;33m)\u001b[0m\u001b[1;33m\u001b[0m\u001b[1;33m\u001b[0m\u001b[0m\n\u001b[0m\u001b[0;32m      2\u001b[0m \u001b[0mnp\u001b[0m\u001b[1;33m.\u001b[0m\u001b[0msave\u001b[0m\u001b[1;33m(\u001b[0m\u001b[1;34m'training_data.npy'\u001b[0m\u001b[1;33m,\u001b[0m\u001b[0mtraining_data\u001b[0m\u001b[1;33m)\u001b[0m\u001b[1;33m\u001b[0m\u001b[1;33m\u001b[0m\u001b[0m\n",
      "\u001b[1;31mNameError\u001b[0m: name 'training_data' is not defined"
     ]
    }
   ],
   "source": [
    "np.random.shuffle(training_data)\n",
    "np.save('training_data.npy',training_data)"
   ]
  },
  {
   "cell_type": "code",
   "execution_count": 4,
   "metadata": {},
   "outputs": [
    {
     "ename": "NameError",
     "evalue": "name 'training_data' is not defined",
     "output_type": "error",
     "traceback": [
      "\u001b[1;31m---------------------------------------------------------------------------\u001b[0m",
      "\u001b[1;31mNameError\u001b[0m                                 Traceback (most recent call last)",
      "\u001b[1;32m<ipython-input-4-a4dcd48efd4c>\u001b[0m in \u001b[0;36m<module>\u001b[1;34m\u001b[0m\n\u001b[1;32m----> 1\u001b[1;33m \u001b[0mlen\u001b[0m\u001b[1;33m(\u001b[0m\u001b[0mtraining_data\u001b[0m\u001b[1;33m)\u001b[0m\u001b[1;33m\u001b[0m\u001b[1;33m\u001b[0m\u001b[0m\n\u001b[0m",
      "\u001b[1;31mNameError\u001b[0m: name 'training_data' is not defined"
     ]
    }
   ],
   "source": [
    "len(training_data)\n"
   ]
  },
  {
   "cell_type": "code",
   "execution_count": 5,
   "metadata": {},
   "outputs": [
    {
     "data": {
      "text/plain": [
       "24946"
      ]
     },
     "execution_count": 5,
     "metadata": {},
     "output_type": "execute_result"
    }
   ],
   "source": [
    "k=np.load('training_data.npy',allow_pickle=True)\n",
    "len(k)\n"
   ]
  },
  {
   "cell_type": "code",
   "execution_count": 6,
   "metadata": {},
   "outputs": [],
   "source": [
    "import torch\n",
    "import torch.nn as nn\n",
    "import torch.nn.functional as f"
   ]
  },
  {
   "cell_type": "code",
   "execution_count": 7,
   "metadata": {},
   "outputs": [],
   "source": [
    "class Net(nn.Module):\n",
    "    def __init__(self):\n",
    "        super().__init__()\n",
    "        self.conv1=nn.Conv2d(1,50,5)\n",
    "        self.conv2=nn.Conv2d(50,120,5)\n",
    "        self.conv3=nn.Conv2d(120,200,5)\n",
    "        \n",
    "        x=torch.randn(50,50).view(-1,1,50,50)\n",
    "        self.flat=0\n",
    "        \n",
    "        self.flatten(x)\n",
    "        \n",
    "        self.fc1=nn.Linear(self.flat,self.flat)\n",
    "        self.fc2=nn.Linear(self.flat,2)\n",
    "        \n",
    "    def flatten(self,x):\n",
    "        if(self.flat==0):\n",
    "            x=f.max_pool2d(self.conv1(x),(2,2))\n",
    "            x=f.max_pool2d(self.conv2(x),(2,2))\n",
    "            x=f.max_pool2d(self.conv3(x),(2,2))\n",
    "            print(x[0].size())\n",
    "            self.flat=x[0].shape[0]*x[0].shape[1]*x[0].shape[2]\n",
    "        print(self.flat)\n",
    "        \n",
    "    def forward(self,x):\n",
    "        x=f.max_pool2d(f.relu(self.conv1(x)),(2,2))\n",
    "        x=f.max_pool2d(f.relu(self.conv2(x)),(2,2))\n",
    "        x=f.max_pool2d(f.relu(self.conv3(x)),(2,2))\n",
    "        p=x\n",
    "        x=f.relu(self.fc1(x.view(-1,self.flat)))\n",
    "        x=self.fc2(x)\n",
    "        return p,f.softmax(x,dim=1)\n",
    "      \n",
    "        "
   ]
  },
  {
   "cell_type": "code",
   "execution_count": 8,
   "metadata": {},
   "outputs": [
    {
     "name": "stdout",
     "output_type": "stream",
     "text": [
      "torch.Size([200, 2, 2])\n",
      "800\n"
     ]
    }
   ],
   "source": [
    "net=Net()\n",
    "# x=torch.randn(50,50).view(-1,1,50,50)\n",
    "# x=net.forward(x)\n",
    "# print(x)\n"
   ]
  },
  {
   "cell_type": "code",
   "execution_count": 9,
   "metadata": {},
   "outputs": [
    {
     "name": "stdout",
     "output_type": "stream",
     "text": [
      "22452\n"
     ]
    }
   ],
   "source": [
    "data=np.load('training_data.npy',allow_pickle=True)\n",
    "test_size=int(0.1*len(data))\n",
    "train_set=data[:-test_size]\n",
    "test_set=data[-test_size:]\n",
    "print(len(train_set))"
   ]
  },
  {
   "cell_type": "code",
   "execution_count": 10,
   "metadata": {},
   "outputs": [
    {
     "data": {
      "text/plain": [
       "array([1., 0.])"
      ]
     },
     "execution_count": 10,
     "metadata": {},
     "output_type": "execute_result"
    }
   ],
   "source": [
    "train_set[1][1]"
   ]
  },
  {
   "cell_type": "code",
   "execution_count": 11,
   "metadata": {},
   "outputs": [],
   "source": [
    "# import torch.optim as optim\n",
    "# optimizer=optim.Adam(net.parameters(),lr=0.001)\n",
    "# batch=100\n",
    "# epochs=1\n",
    "# train_set_x=torch.Tensor([i[0] for i in train_set]).view(-1,50,50)\n",
    "# train_set_x/=255\n",
    "# train_set_y=torch.Tensor([i[1] for i in train_set])\n",
    "# lossFunc=nn.MSELoss()\n",
    "# for epoch in range(epochs):\n",
    "#     for i in tqdm(range(0,len(train_set),batch)):\n",
    "#         x=train_set_x[i:i+batch]\n",
    "#         y=train_set_y[i:i+batch]\n",
    "#         net.zero_grad()\n",
    "#         output=net(x.view(-1,1,50,50))\n",
    "#         loss=lossFunc(output,y)\n",
    "#         loss.backward()\n",
    "#         optimizer.step\n",
    "#     print(loss)"
   ]
  },
  {
   "cell_type": "code",
   "execution_count": 12,
   "metadata": {},
   "outputs": [],
   "source": [
    "# correct=0\n",
    "# total=0\n",
    "\n",
    "# for i in test_set:\n",
    "#     x=torch.Tensor(i[0]).view(-1,50,50)\n",
    "#     y=torch.argmax(torch.Tensor(i[1]))\n",
    "#     output=net(x.view(-1,1,50,50))\n",
    "#     if y==torch.argmax(output):\n",
    "#         correct+=1\n",
    "#     total+=1"
   ]
  },
  {
   "cell_type": "code",
   "execution_count": 13,
   "metadata": {},
   "outputs": [],
   "source": [
    "# correct/total"
   ]
  },
  {
   "cell_type": "code",
   "execution_count": 14,
   "metadata": {},
   "outputs": [
    {
     "data": {
      "text/plain": [
       "True"
      ]
     },
     "execution_count": 14,
     "metadata": {},
     "output_type": "execute_result"
    }
   ],
   "source": [
    "torch.cuda.is_available()"
   ]
  },
  {
   "cell_type": "code",
   "execution_count": 15,
   "metadata": {},
   "outputs": [],
   "source": [
    "device=torch.device('cuda:0')\n",
    "device1=torch.device('cpu:0')"
   ]
  },
  {
   "cell_type": "code",
   "execution_count": 16,
   "metadata": {},
   "outputs": [
    {
     "data": {
      "text/plain": [
       "Net(\n",
       "  (conv1): Conv2d(1, 50, kernel_size=(5, 5), stride=(1, 1))\n",
       "  (conv2): Conv2d(50, 120, kernel_size=(5, 5), stride=(1, 1))\n",
       "  (conv3): Conv2d(120, 200, kernel_size=(5, 5), stride=(1, 1))\n",
       "  (fc1): Linear(in_features=800, out_features=800, bias=True)\n",
       "  (fc2): Linear(in_features=800, out_features=2, bias=True)\n",
       ")"
      ]
     },
     "execution_count": 16,
     "metadata": {},
     "output_type": "execute_result"
    }
   ],
   "source": [
    "net.to(device)"
   ]
  },
  {
   "cell_type": "code",
   "execution_count": null,
   "metadata": {},
   "outputs": [
    {
     "name": "stderr",
     "output_type": "stream",
     "text": [
      "100%|████████████████████████████████████████████████████████████████| 225/225 [00:21<00:00, 10.31it/s]\n"
     ]
    },
    {
     "name": "stdout",
     "output_type": "stream",
     "text": [
      "tensor(0.2337, device='cuda:0', grad_fn=<MseLossBackward>)\n"
     ]
    },
    {
     "name": "stderr",
     "output_type": "stream",
     "text": [
      "100%|████████████████████████████████████████████████████████████████| 225/225 [00:10<00:00, 22.29it/s]\n"
     ]
    },
    {
     "name": "stdout",
     "output_type": "stream",
     "text": [
      "tensor(0.2114, device='cuda:0', grad_fn=<MseLossBackward>)\n"
     ]
    },
    {
     "name": "stderr",
     "output_type": "stream",
     "text": [
      "100%|████████████████████████████████████████████████████████████████| 225/225 [00:09<00:00, 22.52it/s]\n"
     ]
    },
    {
     "name": "stdout",
     "output_type": "stream",
     "text": [
      "tensor(0.1918, device='cuda:0', grad_fn=<MseLossBackward>)\n"
     ]
    },
    {
     "name": "stderr",
     "output_type": "stream",
     "text": [
      "100%|████████████████████████████████████████████████████████████████| 225/225 [00:10<00:00, 22.43it/s]\n"
     ]
    },
    {
     "name": "stdout",
     "output_type": "stream",
     "text": [
      "tensor(0.1815, device='cuda:0', grad_fn=<MseLossBackward>)\n"
     ]
    },
    {
     "name": "stderr",
     "output_type": "stream",
     "text": [
      "100%|████████████████████████████████████████████████████████████████| 225/225 [00:10<00:00, 22.49it/s]\n"
     ]
    },
    {
     "name": "stdout",
     "output_type": "stream",
     "text": [
      "tensor(0.1746, device='cuda:0', grad_fn=<MseLossBackward>)\n"
     ]
    },
    {
     "name": "stderr",
     "output_type": "stream",
     "text": [
      "100%|████████████████████████████████████████████████████████████████| 225/225 [00:10<00:00, 22.24it/s]\n"
     ]
    },
    {
     "name": "stdout",
     "output_type": "stream",
     "text": [
      "tensor(0.1660, device='cuda:0', grad_fn=<MseLossBackward>)\n"
     ]
    },
    {
     "name": "stderr",
     "output_type": "stream",
     "text": [
      "100%|████████████████████████████████████████████████████████████████| 225/225 [00:10<00:00, 22.38it/s]\n"
     ]
    },
    {
     "name": "stdout",
     "output_type": "stream",
     "text": [
      "tensor(0.1547, device='cuda:0', grad_fn=<MseLossBackward>)\n"
     ]
    },
    {
     "name": "stderr",
     "output_type": "stream",
     "text": [
      "100%|████████████████████████████████████████████████████████████████| 225/225 [00:10<00:00, 22.11it/s]\n"
     ]
    },
    {
     "name": "stdout",
     "output_type": "stream",
     "text": [
      "tensor(0.1517, device='cuda:0', grad_fn=<MseLossBackward>)\n"
     ]
    },
    {
     "name": "stderr",
     "output_type": "stream",
     "text": [
      "100%|████████████████████████████████████████████████████████████████| 225/225 [00:10<00:00, 22.31it/s]\n"
     ]
    },
    {
     "name": "stdout",
     "output_type": "stream",
     "text": [
      "tensor(0.1507, device='cuda:0', grad_fn=<MseLossBackward>)\n"
     ]
    },
    {
     "name": "stderr",
     "output_type": "stream",
     "text": [
      " 20%|████████████▋                                                    | 44/225 [00:01<00:07, 22.68it/s]"
     ]
    }
   ],
   "source": [
    "\n",
    "import torch.optim as optim\n",
    "optimizer=optim.Adam(net.parameters(),lr=0.001)\n",
    "batch=100\n",
    "epochs=10\n",
    "train_set_x=torch.Tensor([i[0] for i in train_set]).view(-1,50,50)\n",
    "train_set_x/=255\n",
    "train_set_y=torch.Tensor([i[1] for i in train_set])\n",
    "lossFunc=nn.MSELoss()\n",
    "for epoch in range(epochs):\n",
    "    for i in tqdm(range(0,len(train_set),batch)):\n",
    "        x=train_set_x[i:i+batch].to(device)\n",
    "        y=train_set_y[i:i+batch].to(device)\n",
    "        net.zero_grad()\n",
    "        t,output=net(x.view(-1,1,50,50))\n",
    "        loss=lossFunc(output,y)\n",
    "        loss.backward()\n",
    "        optimizer.step()\n",
    "    print(loss)"
   ]
  },
  {
   "cell_type": "code",
   "execution_count": null,
   "metadata": {},
   "outputs": [],
   "source": [
    "correct=0\n",
    "total=0\n",
    "for i in test_set:\n",
    "    x=torch.Tensor(i[0]/255).view(-1,50,50).to(device)\n",
    "    y=torch.argmax(torch.Tensor(i[1])).to(device)\n",
    "    t,output=net(x.view(-1,1,50,50))\n",
    "    if y==torch.argmax(output):\n",
    "        correct+=1\n",
    "    total+=1\n",
    "print(correct/total)"
   ]
  },
  {
   "cell_type": "code",
   "execution_count": 19,
   "metadata": {},
   "outputs": [
    {
     "data": {
      "text/plain": [
       "array([array([[ 24,  93,  94, ..., 123, 121, 124],\n",
       "       [ 25,  85,  92, ..., 124, 123, 121],\n",
       "       [ 26,  87,  83, ..., 125, 121, 121],\n",
       "       ...,\n",
       "       [ 20, 113, 117, ..., 255, 111,  92],\n",
       "       [109, 121, 107, ..., 254, 176,  95],\n",
       "       [ 69, 127, 115, ..., 254, 251,  97]], dtype=uint8),\n",
       "       array([1., 0.])], dtype=object)"
      ]
     },
     "execution_count": 19,
     "metadata": {},
     "output_type": "execute_result"
    }
   ],
   "source": [
    "i"
   ]
  },
  {
   "cell_type": "code",
   "execution_count": 20,
   "metadata": {},
   "outputs": [],
   "source": [
    "import matplotlib.pyplot as plt"
   ]
  },
  {
   "cell_type": "code",
   "execution_count": 21,
   "metadata": {},
   "outputs": [
    {
     "name": "stdout",
     "output_type": "stream",
     "text": [
      "torch.Size([1, 200, 2, 2])\n",
      "tensor(1, device='cuda:0')\n",
      "[0. 1.]\n"
     ]
    },
    {
     "data": {
      "image/png": "[encoded data removed]",
      "text/plain": [
       "<Figure size 432x288 with 1 Axes>"
      ]
     },
     "metadata": {
      "needs_background": "light"
     },
     "output_type": "display_data"
    }
   ],
   "source": [
    "k=67\n",
    "plt.imshow(test_set[k][0])\n",
    "t,output=net.forward(torch.Tensor(test_set[k][0]).view(-1,1,50,50).to(device))\n",
    "print(t.shape)\n",
    "print(torch.argmax(output))\n",
    "print(train_set[k][1])"
   ]
  },
  {
   "cell_type": "code",
   "execution_count": 27,
   "metadata": {},
   "outputs": [
    {
     "data": {
      "image/png": "[encoded data removed]",
      "text/plain": [
       "<Figure size 432x288 with 1 Axes>"
      ]
     },
     "metadata": {
      "needs_background": "light"
     },
     "output_type": "display_data"
    }
   ],
   "source": [
    "torch.Tensor.cpu(t)\n",
    "k=t.view(-1,40,20).to(device1)\n",
    "# print(k)\n",
    "k=k.detach().numpy()\n",
    "plt.imshow(k[0])\n",
    "plt.show()"
   ]
  },
  {
   "cell_type": "code",
   "execution_count": 28,
   "metadata": {},
   "outputs": [],
   "source": [
    "jo=cv2.imread('k.jpg',cv2.IMREAD_GRAYSCALE)\n",
    "k=np.array(jo)\n",
    "len(k[0])\n",
    "j=[]\n",
    "for i in k:\n",
    "    j.append(i[500:1000])\n",
    "j=j[200:800]"
   ]
  },
  {
   "cell_type": "code",
   "execution_count": 29,
   "metadata": {},
   "outputs": [
    {
     "data": {
      "image/png": "[encoded data removed]",
      "text/plain": [
       "<Figure size 432x288 with 1 Axes>"
      ]
     },
     "metadata": {
      "needs_background": "light"
     },
     "output_type": "display_data"
    }
   ],
   "source": [
    "plt.imshow(j)\n",
    "plt.show()"
   ]
  },
  {
   "cell_type": "code",
   "execution_count": 60,
   "metadata": {},
   "outputs": [
    {
     "data": {
      "image/png": "[encoded data removed]",
      "text/plain": [
       "<Figure size 432x288 with 1 Axes>"
      ]
     },
     "metadata": {
      "needs_background": "light"
     },
     "output_type": "display_data"
    }
   ],
   "source": [
    "jo_f=np.array(j)\n",
    "jo_f=cv2.resize(jo_f,(50,50))\n",
    "plt.imshow(jo_f)\n",
    "plt.show()"
   ]
  },
  {
   "cell_type": "code",
   "execution_count": 61,
   "metadata": {},
   "outputs": [
    {
     "data": {
      "text/plain": [
       "tensor([[5.0643e-09, 1.0000e+00]], device='cuda:0', grad_fn=<SoftmaxBackward>)"
      ]
     },
     "execution_count": 61,
     "metadata": {},
     "output_type": "execute_result"
    }
   ],
   "source": [
    "\n",
    "net(torch.Tensor(jo_f).view(-1,1,50,50).to(device))"
   ]
  },
  {
   "cell_type": "code",
   "execution_count": 30,
   "metadata": {},
   "outputs": [
    {
     "ename": "TypeError",
     "evalue": "argmax(): argument 'input' (position 1) must be Tensor, not tuple",
     "output_type": "error",
     "traceback": [
      "\u001b[1;31m---------------------------------------------------------------------------\u001b[0m",
      "\u001b[1;31mTypeError\u001b[0m                                 Traceback (most recent call last)",
      "\u001b[1;32m<ipython-input-30-539580e26c24>\u001b[0m in \u001b[0;36m<module>\u001b[1;34m\u001b[0m\n\u001b[0;32m     10\u001b[0m         \u001b[0mcv2\u001b[0m\u001b[1;33m.\u001b[0m\u001b[0mimshow\u001b[0m\u001b[1;33m(\u001b[0m\u001b[1;34m'gray'\u001b[0m\u001b[1;33m,\u001b[0m\u001b[0mk\u001b[0m\u001b[1;33m)\u001b[0m\u001b[1;33m\u001b[0m\u001b[1;33m\u001b[0m\u001b[0m\n\u001b[0;32m     11\u001b[0m         \u001b[0mk\u001b[0m\u001b[1;33m=\u001b[0m\u001b[0mtorch\u001b[0m\u001b[1;33m.\u001b[0m\u001b[0mTensor\u001b[0m\u001b[1;33m(\u001b[0m\u001b[0mk\u001b[0m\u001b[1;33m)\u001b[0m\u001b[1;33m.\u001b[0m\u001b[0mview\u001b[0m\u001b[1;33m(\u001b[0m\u001b[1;33m-\u001b[0m\u001b[1;36m1\u001b[0m\u001b[1;33m,\u001b[0m\u001b[1;36m1\u001b[0m\u001b[1;33m,\u001b[0m\u001b[1;36m50\u001b[0m\u001b[1;33m,\u001b[0m\u001b[1;36m50\u001b[0m\u001b[1;33m)\u001b[0m\u001b[1;33m.\u001b[0m\u001b[0mto\u001b[0m\u001b[1;33m(\u001b[0m\u001b[0mdevice\u001b[0m\u001b[1;33m)\u001b[0m\u001b[1;33m\u001b[0m\u001b[1;33m\u001b[0m\u001b[0m\n\u001b[1;32m---> 12\u001b[1;33m         \u001b[0mprint\u001b[0m\u001b[1;33m(\u001b[0m\u001b[0mtorch\u001b[0m\u001b[1;33m.\u001b[0m\u001b[0margmax\u001b[0m\u001b[1;33m(\u001b[0m\u001b[0mnet\u001b[0m\u001b[1;33m(\u001b[0m\u001b[0mk\u001b[0m\u001b[1;33m)\u001b[0m\u001b[1;33m)\u001b[0m\u001b[1;33m)\u001b[0m\u001b[1;33m\u001b[0m\u001b[1;33m\u001b[0m\u001b[0m\n\u001b[0m\u001b[0;32m     13\u001b[0m     \u001b[1;32mtry\u001b[0m\u001b[1;33m:\u001b[0m\u001b[1;33m\u001b[0m\u001b[1;33m\u001b[0m\u001b[0m\n\u001b[0;32m     14\u001b[0m         \u001b[0mcv2\u001b[0m\u001b[1;33m.\u001b[0m\u001b[0mimshow\u001b[0m\u001b[1;33m(\u001b[0m\u001b[1;34m'frame'\u001b[0m\u001b[1;33m,\u001b[0m\u001b[0mframe\u001b[0m\u001b[1;33m)\u001b[0m\u001b[1;33m\u001b[0m\u001b[1;33m\u001b[0m\u001b[0m\n",
      "\u001b[1;31mTypeError\u001b[0m: argmax(): argument 'input' (position 1) must be Tensor, not tuple"
     ]
    }
   ],
   "source": [
    "cap=cv2.VideoCapture(0)\n",
    "i=0\n",
    "dict={'0':'cat','1':'dog'}\n",
    "while True:\n",
    "    i+=1\n",
    "    ret,frame=cap.read()\n",
    "    if i%100==0:\n",
    "        k = cv2.cvtColor(frame, cv2.COLOR_BGR2GRAY)\n",
    "        k=cv2.resize(k,(50,50))\n",
    "        cv2.imshow('gray',k)\n",
    "        k=torch.Tensor(k).view(-1,1,50,50).to(device)\n",
    "        print(torch.argmax(net(k)))\n",
    "    try:\n",
    "        cv2.imshow('frame',frame)\n",
    "    except:\n",
    "        print('h')\n",
    "    \n",
    "    if cv2.waitKey(1) & 0xFF == ord('q'):\n",
    "        break\n",
    "cap.release()\n",
    "cv2.destroyAllWindows()"
   ]
  },
  {
   "cell_type": "code",
   "execution_count": null,
   "metadata": {},
   "outputs": [],
   "source": []
  },
  {
   "cell_type": "code",
   "execution_count": null,
   "metadata": {},
   "outputs": [],
   "source": []
  },
  {
   "cell_type": "code",
   "execution_count": null,
   "metadata": {},
   "outputs": [],
   "source": []
  },
  {
   "cell_type": "code",
   "execution_count": null,
   "metadata": {},
   "outputs": [],
   "source": []
  }
 ],
 "metadata": {
  "kernelspec": {
   "display_name": "Python 3",
   "language": "python",
   "name": "python3"
  },
  "language_info": {
   "codemirror_mode": {
    "name": "ipython",
    "version": 3
   },
   "file_extension": ".py",
   "mimetype": "text/x-python",
   "name": "python",
   "nbconvert_exporter": "python",
   "pygments_lexer": "ipython3",
   "version": "3.7.4"
  }
 },
 "nbformat": 4,
 "nbformat_minor": 4
}
