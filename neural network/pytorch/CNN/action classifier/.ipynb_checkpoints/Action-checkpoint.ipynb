{
 "cells": [
  {
   "cell_type": "code",
   "execution_count": 23,
   "metadata": {},
   "outputs": [],
   "source": [
    "import torch\n",
    "import torch.nn.functional as f\n",
    "import torch.nn as nn\n",
    "import cv2\n",
    "import os\n",
    "import numpy as np\n",
    "from tqdm import tqdm\n",
    "import torch.optim as optim"
   ]
  },
  {
   "cell_type": "code",
   "execution_count": 45,
   "metadata": {},
   "outputs": [],
   "source": [
    "create_data=True\n",
    "convert_data=True\n",
    "model_exists=True"
   ]
  },
  {
   "cell_type": "code",
   "execution_count": 52,
   "metadata": {},
   "outputs": [],
   "source": [
    "if create_data:\n",
    "    cap=cv2.VideoCapture(0)\n",
    "    kname='left'\n",
    "    file='data\\\\'+kname\n",
    "    i=0\n",
    "    while i<500:\n",
    "        name=kname\n",
    "        name=name+str(i)+'.jpg'\n",
    "        i+=1\n",
    "        ret,frame=cap.read()\n",
    "        try:\n",
    "            cv2.imshow('frame',frame)\n",
    "        except:\n",
    "            pass\n",
    "\n",
    "        if cv2.waitKey(100) & 0xFF == ord('q'):\n",
    "            break\n",
    "        p=os.path.join(file,name)\n",
    "        cv2.imwrite(p,frame)\n",
    "\n",
    "    cap.release()\n",
    "    cv2.destroyAllWindows()"
   ]
  },
  {
   "cell_type": "code",
   "execution_count": 53,
   "metadata": {},
   "outputs": [
    {
     "name": "stderr",
     "output_type": "stream",
     "text": [
      "100%|███████████████████████████████████████████████████████████████| 500/500 [00:04<00:00, 100.69it/s]\n",
      "100%|███████████████████████████████████████████████████████████████| 500/500 [00:04<00:00, 102.53it/s]\n",
      "100%|███████████████████████████████████████████████████████████████| 500/500 [00:04<00:00, 102.34it/s]\n"
     ]
    }
   ],
   "source": [
    "if convert_data:\n",
    "    data_file='data'\n",
    "    labels=['right','left','idle']\n",
    "    data=[]\n",
    "    for label in labels:\n",
    "        path=os.path.join(data_file,label)\n",
    "        for file in tqdm(os.listdir(path)):\n",
    "            try:\n",
    "                image=cv2.imread(os.path.join(path,file))\n",
    "                image=cv2.resize(image,(50,50))\n",
    "#                 image=cv2.resize(image,(80,60))\n",
    "                image=cv2.cvtColor(image, cv2.COLOR_BGR2GRAY)\n",
    "                d=np.array([image,label])\n",
    "                data.append(d)\n",
    "            except:\n",
    "                print('h')\n",
    "    data=np.array(data)\n",
    "    np.random.shuffle(data)\n",
    "    np.save('data_50_50.npy',data)"
   ]
  },
  {
   "cell_type": "code",
   "execution_count": 54,
   "metadata": {},
   "outputs": [],
   "source": [
    "data=np.load('data_50_50.npy',allow_pickle=True)\n",
    "cv2.imshow('pic',data[2][0])\n",
    "cv2.waitKey(0)\n",
    "cv2.destroyAllWindows()"
   ]
  },
  {
   "cell_type": "code",
   "execution_count": 55,
   "metadata": {},
   "outputs": [],
   "source": [
    "test_size=int(data.shape[0]*0.1)\n",
    "training_data=data[:-test_size]\n",
    "test_data=data[-test_size:]\n",
    "actions={'left':0,'right':1,'idle':2}\n",
    "dc={'dog':0,'cat':1}"
   ]
  },
  {
   "cell_type": "code",
   "execution_count": 56,
   "metadata": {},
   "outputs": [],
   "source": [
    "\n",
    "training_x=[]\n",
    "training_y=[]\n",
    "test_set=[]\n",
    "for x in training_data:\n",
    "    training_x.append(x[0]/255)\n",
    "#     print(x[1])\n",
    "#     training_y.append(x[1])\n",
    "    training_y.append(np.eye(3)[actions[x[1]]])\n",
    "training_x=torch.Tensor(training_x)\n",
    "# print(training_y)\n",
    "training_y=torch.Tensor(training_y)\n",
    "\n",
    "for x in test_data:\n",
    "    k=np.array([x[0],np.eye(3)[actions[x[1]]]])\n",
    "    test_set.append(k)\n",
    "# test_set"
   ]
  },
  {
   "cell_type": "code",
   "execution_count": 57,
   "metadata": {},
   "outputs": [],
   "source": [
    "class Net(nn.Module):\n",
    "    def __init__(self):\n",
    "        super().__init__()\n",
    "        self.conv1=nn.Conv2d(1,50,5)\n",
    "        self.conv2=nn.Conv2d(50,100,5)\n",
    "        self.conv3=nn.Conv2d(100,200,5)\n",
    "        self.flat=-1\n",
    "        \n",
    "        self.flatten()\n",
    "        \n",
    "        self.fc1=nn.Linear(self.flat,self.flat)\n",
    "        self.fc2=nn.Linear(self.flat,100)\n",
    "        self.fc3=nn.Linear(100,3)\n",
    "    \n",
    "    def flatten(self):\n",
    "        x=np.random.rand(50,50)\n",
    "#         x=np.random.rand(60,80)\n",
    "#         print(x)\n",
    "        x=torch.Tensor(x).view(-1,1,50,50)\n",
    "#         x=torch.Tensor(x).view(-1,1,60,80)\n",
    "        x=(f.max_pool2d(self.conv1(x),(2,2)))\n",
    "        x=(f.max_pool2d(self.conv2(x),(2,2)))\n",
    "        x=(f.max_pool2d(self.conv3(x),(2,2)))\n",
    "#         print(x.shape)\n",
    "        self.flat=x.shape[1]*x.shape[2]*x.shape[3]\n",
    "    \n",
    "    def forward(self,x):\n",
    "        x=f.relu(f.max_pool2d(self.conv1(x),(2,2)))\n",
    "        x=f.relu(f.max_pool2d(self.conv2(x),(2,2)))\n",
    "        x=f.relu(f.max_pool2d(self.conv3(x),(2,2)))\n",
    "        x=f.relu(self.fc1(x.view(-1,self.flat)))\n",
    "        x=f.relu(self.fc2(x))\n",
    "        x=f.relu(self.fc3(x))\n",
    "#         print(x)\n",
    "        return x"
   ]
  },
  {
   "cell_type": "code",
   "execution_count": 58,
   "metadata": {},
   "outputs": [
    {
     "data": {
      "text/plain": [
       "True"
      ]
     },
     "execution_count": 58,
     "metadata": {},
     "output_type": "execute_result"
    }
   ],
   "source": [
    "torch.cuda.is_available()"
   ]
  },
  {
   "cell_type": "code",
   "execution_count": 59,
   "metadata": {},
   "outputs": [
    {
     "data": {
      "text/plain": [
       "device(type='cuda', index=0)"
      ]
     },
     "execution_count": 59,
     "metadata": {},
     "output_type": "execute_result"
    }
   ],
   "source": [
    "device=torch.device('cuda:0')\n",
    "device"
   ]
  },
  {
   "cell_type": "code",
   "execution_count": 60,
   "metadata": {},
   "outputs": [],
   "source": [
    "net=Net().to(device)"
   ]
  },
  {
   "cell_type": "code",
   "execution_count": 61,
   "metadata": {},
   "outputs": [
    {
     "name": "stderr",
     "output_type": "stream",
     "text": [
      "100%|████████████████████████████████████████████████████████████████| 169/169 [00:04<00:00, 39.33it/s]\n"
     ]
    },
    {
     "name": "stdout",
     "output_type": "stream",
     "text": [
      "tensor(0.0007, device='cuda:0', grad_fn=<MseLossBackward>)\n"
     ]
    },
    {
     "name": "stderr",
     "output_type": "stream",
     "text": [
      "100%|████████████████████████████████████████████████████████████████| 169/169 [00:03<00:00, 44.28it/s]\n"
     ]
    },
    {
     "name": "stdout",
     "output_type": "stream",
     "text": [
      "tensor(0.0005, device='cuda:0', grad_fn=<MseLossBackward>)\n"
     ]
    },
    {
     "name": "stderr",
     "output_type": "stream",
     "text": [
      "100%|████████████████████████████████████████████████████████████████| 169/169 [00:03<00:00, 44.41it/s]\n"
     ]
    },
    {
     "name": "stdout",
     "output_type": "stream",
     "text": [
      "tensor(0.0001, device='cuda:0', grad_fn=<MseLossBackward>)\n"
     ]
    }
   ],
   "source": [
    "if not(model_exists): \n",
    "    optimizer=optim.Adam(net.parameters(),lr=0.001)\n",
    "    loss_func=nn.MSELoss()\n",
    "    epochs=3\n",
    "    batch_size=8\n",
    "    for epoch in range(epochs):\n",
    "        for i in tqdm(range(0,training_data.shape[0],batch_size)):\n",
    "            net.zero_grad()\n",
    "            x=training_x[i:i+batch_size].to(device)\n",
    "            y=training_y[i:i+batch_size].to(device)\n",
    "            output=net(x.view(-1,1,50,50))\n",
    "#             output=net(x.view(-1,1,60,80))\n",
    "#             print(x.size())\n",
    "#             print(output.size())\n",
    "            loss=loss_func(output,y)\n",
    "            loss.backward()\n",
    "            optimizer.step()\n",
    "        print(loss)\n",
    "else:\n",
    "    net.load_state_dict(torch.load('model06012020.pt'))"
   ]
  },
  {
   "cell_type": "code",
   "execution_count": 63,
   "metadata": {},
   "outputs": [
    {
     "name": "stdout",
     "output_type": "stream",
     "text": [
      "1.0\n"
     ]
    }
   ],
   "source": [
    "correct=0\n",
    "total=0\n",
    "for i in test_set:\n",
    "    x=torch.Tensor(i[0]/255).view(-1,50,50).to(device)\n",
    "    y=torch.argmax(torch.Tensor(i[1])).to(device)\n",
    "    output=net(x.view(-1,1,50,50))\n",
    "#     output=net(x.view(-1,1,60,80))\n",
    "    if y==torch.argmax(output):\n",
    "        correct+=1\n",
    "    total+=1\n",
    "print(correct/total)"
   ]
  },
  {
   "cell_type": "code",
   "execution_count": null,
   "metadata": {},
   "outputs": [],
   "source": []
  },
  {
   "cell_type": "code",
   "execution_count": 64,
   "metadata": {},
   "outputs": [
    {
     "data": {
      "text/plain": [
       "2"
      ]
     },
     "execution_count": 64,
     "metadata": {},
     "output_type": "execute_result"
    }
   ],
   "source": [
    "len(test_set[1])"
   ]
  },
  {
   "cell_type": "code",
   "execution_count": null,
   "metadata": {},
   "outputs": [],
   "source": []
  },
  {
   "cell_type": "code",
   "execution_count": null,
   "metadata": {},
   "outputs": [],
   "source": []
  },
  {
   "cell_type": "code",
   "execution_count": null,
   "metadata": {},
   "outputs": [],
   "source": []
  },
  {
   "cell_type": "code",
   "execution_count": 65,
   "metadata": {},
   "outputs": [],
   "source": [
    "cap=cv2.VideoCapture(0)\n",
    "font = cv2.FONT_HERSHEY_SIMPLEX\n",
    "while True:\n",
    "    ret,frame=cap.read()\n",
    "    x=cv2.resize(frame,(80,60))\n",
    "    x=cv2.cvtColor(x, cv2.COLOR_BGR2GRAY)\n",
    "    x=x/255\n",
    "    x=torch.Tensor(x).view(-1,1,60,80).to(device)\n",
    "    output=torch.argmax(net(x))\n",
    "#     cv2.namedWindow('frame',cv2.WINDOW_NORMAL)\n",
    "    if output==1:\n",
    "        cv2.putText(frame,'right',(10,200), font, 1, (200,255,123), 3, cv2.LINE_AA)\n",
    "#         print('right')\n",
    "    elif output==2:\n",
    "        pass\n",
    "    else:\n",
    "#         print('left')\n",
    "        cv2.putText(frame,'left',(550,200), font, 1, (200,32,155), 3, cv2.LINE_AA)\n",
    "    if cv2.waitKey(100) & 0xFF == ord('q'):\n",
    "        break\n",
    "    cv2.imshow('frame',frame)\n",
    "cap.release()\n",
    "cv2.destroyAllWindows()"
   ]
  },
  {
   "cell_type": "code",
   "execution_count": null,
   "metadata": {},
   "outputs": [],
   "source": []
  },
  {
   "cell_type": "code",
   "execution_count": null,
   "metadata": {},
   "outputs": [],
   "source": []
  },
  {
   "cell_type": "code",
   "execution_count": null,
   "metadata": {},
   "outputs": [],
   "source": []
  },
  {
   "cell_type": "code",
   "execution_count": null,
   "metadata": {},
   "outputs": [],
   "source": []
  },
  {
   "cell_type": "code",
   "execution_count": null,
   "metadata": {},
   "outputs": [],
   "source": []
  },
  {
   "cell_type": "code",
   "execution_count": null,
   "metadata": {},
   "outputs": [],
   "source": []
  },
  {
   "cell_type": "code",
   "execution_count": null,
   "metadata": {},
   "outputs": [],
   "source": []
  },
  {
   "cell_type": "code",
   "execution_count": null,
   "metadata": {},
   "outputs": [],
   "source": []
  },
  {
   "cell_type": "code",
   "execution_count": 15,
   "metadata": {},
   "outputs": [],
   "source": [
    "if not(model_exists):\n",
    "    torch.save(net.state_dict(),'model01032020_aman.pt')"
   ]
  },
  {
   "cell_type": "code",
   "execution_count": null,
   "metadata": {},
   "outputs": [],
   "source": []
  }
 ],
 "metadata": {
  "kernelspec": {
   "display_name": "Python 3",
   "language": "python",
   "name": "python3"
  },
  "language_info": {
   "codemirror_mode": {
    "name": "ipython",
    "version": 3
   },
   "file_extension": ".py",
   "mimetype": "text/x-python",
   "name": "python",
   "nbconvert_exporter": "python",
   "pygments_lexer": "ipython3",
   "version": "3.7.4"
  }
 },
 "nbformat": 4,
 "nbformat_minor": 4
}
